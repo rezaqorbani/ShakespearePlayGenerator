{
  "nbformat": 4,
  "nbformat_minor": 0,
  "metadata": {
    "colab": {
      "provenance": []
    },
    "kernelspec": {
      "name": "python3",
      "display_name": "Python 3"
    },
    "language_info": {
      "name": "python"
    }
  },
  "cells": [
    {
      "cell_type": "code",
      "execution_count": 28,
      "metadata": {
        "id": "6XQS4PfTvyPN"
      },
      "outputs": [],
      "source": [
        "import torch\n",
        "from torch.utils.data import TensorDataset, DataLoader, random_split\n",
        "from feature_engineering import DataProcessor\n",
        "from LSTM import LSTMModel\n",
        "from RNN import RNNModel\n",
        "from train import ModelTrainer\n",
        "import torch.nn as nn"
      ]
    },
    {
      "cell_type": "code",
      "source": [
        "# Load and preprocess data\n",
        "dataset_dir = ''\n",
        "data_processor = DataProcessor(dataset_dir)\n",
        "\n",
        "# Choose to preprocess data or load saved mappings\n",
        "preprocess_data = False\n",
        "char_to_id_file = 'char_to_id.json'\n",
        "id_to_char_file = 'id_to_char.json'\n",
        "\n",
        "if preprocess_data:\n",
        "    ids, char_to_id, id_to_char = data_processor.preprocess()\n",
        "    data_processor.save_mappings(char_to_id_file, char_to_id, id_to_char_file, id_to_char)\n",
        "else:\n",
        "    char_to_id, id_to_char = data_processor.load_mappings(char_to_id_file, id_to_char_file)\n",
        "print('Mapping loaded')\n",
        "## Create Dataset sequences with pytorch\n",
        "#data_processor = DataProcessor(dataset_dir)\n",
        "dialogue_lines = data_processor.read_dialogue_lines()\n",
        "text = ' '.join(dialogue_lines.values())\n",
        "ids = data_processor.text_to_ids(text, char_to_id)\n",
        "print(len(ids))\n",
        "dataset = data_processor.create_dataset(ids[:5050])"
      ],
      "metadata": {
        "colab": {
          "base_uri": "https://localhost:8080/"
        },
        "id": "e-2n-LPGwbGG",
        "outputId": "baf6b2ee-a854-4cca-c02b-626347f4866e"
      },
      "execution_count": 7,
      "outputs": [
        {
          "output_type": "stream",
          "name": "stdout",
          "text": [
            "Mapping loaded\n",
            "17146310\n"
          ]
        }
      ]
    },
    {
      "cell_type": "code",
      "source": [
        "def train_and_test(input_size,hidden_size,num_layers,num_epochs,batch_size,learning_rate):\n",
        "  train_loader, val_loader, test_loader=DataProcessor.create_loaders(dataset, 0.8, 0.1, 0.1, 50)\n",
        "  print('Data Loaded')\n",
        "  ## Train and Evaluate the model\n",
        "  # Initialize the RNN model\n",
        "  input_size = embedding_size = 50\n",
        "  hidden_size = 256\n",
        "  num_layers = 2\n",
        "  vocab_size = len(char_to_id)\n",
        "  model = RNNModel(input_size, hidden_size, vocab_size, num_layers)\n",
        "\n",
        "  # Move the model to GPU if available\n",
        "  device = torch.device(\"cuda\" if torch.cuda.is_available() else \"cpu\")\n",
        "  #device = torch.device(\"cpu\")\n",
        "  model.to(device)\n",
        "\n",
        "  # Define the loss function, learning rate, and optimizer\n",
        "  criterion = nn.CrossEntropyLoss()\n",
        "  learning_rate = 0.001\n",
        "  optimizer = torch.optim.Adam(model.parameters(), lr=learning_rate)\n",
        "  trainer=ModelTrainer(model, train_loader, criterion, optimizer, device)\n",
        "\n",
        "  print('start training')\n",
        "  # Training loop\n",
        "\n",
        "  num_epochs = 5\n",
        "  for epoch in range(num_epochs):\n",
        "      print(epoch)\n",
        "      loss = trainer.train()\n",
        "      # Evaluate the model on the validation set\n",
        "      validation_loss = trainer.evaluate(val_loader)\n",
        "      print(f\"Epoch {epoch+1}/{num_epochs}, Loss: {loss:.4f}, Validation Loss: {validation_loss:.4f}\")\n",
        "\n",
        "  # Evaluation on test set\n",
        "  test_loss = trainer.evaluate(test_loader)\n",
        "\n",
        "  return test_loss\n"
      ],
      "metadata": {
        "id": "DTeFLUNgwlgq"
      },
      "execution_count": 8,
      "outputs": []
    },
    {
      "cell_type": "code",
      "source": [
        "def grid_search(batch_sizes, learning_rates):\n",
        "  input_size = 100\n",
        "  hidden_size = 256\n",
        "  num_layers = 1\n",
        "  num_epochs = 10\n",
        "  results = [[0 for i in range(len(batch_sizes))] for j in range((len(learning_rates)))]\n",
        "\n",
        "  for i,batch_size in enumerate(batch_sizes):\n",
        "    for j,learning_rate in enumerate(learning_rates):\n",
        "      results[i][j]=train_and_test(input_size,hidden_size,num_layers,num_epochs,batch_size,learning_rate)\n",
        "\n",
        "  return results\n",
        "\n"
      ],
      "metadata": {
        "id": "vXM_VOI6v_N3"
      },
      "execution_count": 9,
      "outputs": []
    },
    {
      "cell_type": "code",
      "source": [
        "batch_sizes=[50,60,70]\n",
        "learning_rates=[0.0005,0.001,0.005]\n",
        "results = grid_search(batch_sizes,learning_rates)\n",
        "print(results)"
      ],
      "metadata": {
        "colab": {
          "base_uri": "https://localhost:8080/"
        },
        "id": "lCDUMppBxzPr",
        "outputId": "d5708718-4e7c-4e0d-cbbe-bcef3f72ce06"
      },
      "execution_count": 10,
      "outputs": [
        {
          "output_type": "stream",
          "name": "stdout",
          "text": [
            "Data Loaded\n",
            "start training\n",
            "0\n",
            "Epoch 1/5, Loss: 2.8479, Validation Loss: 2.2781\n",
            "1\n",
            "Epoch 2/5, Loss: 1.9420, Validation Loss: 1.6137\n",
            "2\n",
            "Epoch 3/5, Loss: 1.2633, Validation Loss: 1.0015\n",
            "3\n",
            "Epoch 4/5, Loss: 0.6994, Validation Loss: 0.6144\n",
            "4\n",
            "Epoch 5/5, Loss: 0.3947, Validation Loss: 0.4627\n",
            "Data Loaded\n",
            "start training\n",
            "0\n",
            "Epoch 1/5, Loss: 2.8678, Validation Loss: 2.3166\n",
            "1\n",
            "Epoch 2/5, Loss: 1.9638, Validation Loss: 1.6271\n",
            "2\n",
            "Epoch 3/5, Loss: 1.2797, Validation Loss: 1.0220\n",
            "3\n",
            "Epoch 4/5, Loss: 0.7168, Validation Loss: 0.6223\n",
            "4\n",
            "Epoch 5/5, Loss: 0.4044, Validation Loss: 0.4630\n",
            "Data Loaded\n",
            "start training\n",
            "0\n",
            "Epoch 1/5, Loss: 2.8662, Validation Loss: 2.3169\n",
            "1\n",
            "Epoch 2/5, Loss: 1.9816, Validation Loss: 1.6411\n",
            "2\n",
            "Epoch 3/5, Loss: 1.2979, Validation Loss: 1.0348\n",
            "3\n",
            "Epoch 4/5, Loss: 0.7255, Validation Loss: 0.6238\n",
            "4\n",
            "Epoch 5/5, Loss: 0.4047, Validation Loss: 0.4673\n",
            "Data Loaded\n",
            "start training\n",
            "0\n",
            "Epoch 1/5, Loss: 2.8851, Validation Loss: 2.3108\n",
            "1\n",
            "Epoch 2/5, Loss: 1.9466, Validation Loss: 1.6346\n",
            "2\n",
            "Epoch 3/5, Loss: 1.2535, Validation Loss: 1.0226\n",
            "3\n",
            "Epoch 4/5, Loss: 0.6924, Validation Loss: 0.6266\n",
            "4\n",
            "Epoch 5/5, Loss: 0.3913, Validation Loss: 0.4708\n",
            "Data Loaded\n",
            "start training\n",
            "0\n",
            "Epoch 1/5, Loss: 2.8287, Validation Loss: 2.2716\n",
            "1\n",
            "Epoch 2/5, Loss: 1.9191, Validation Loss: 1.6052\n",
            "2\n",
            "Epoch 3/5, Loss: 1.2416, Validation Loss: 0.9878\n",
            "3\n",
            "Epoch 4/5, Loss: 0.6704, Validation Loss: 0.5906\n",
            "4\n",
            "Epoch 5/5, Loss: 0.3733, Validation Loss: 0.4477\n",
            "Data Loaded\n",
            "start training\n",
            "0\n",
            "Epoch 1/5, Loss: 2.8374, Validation Loss: 2.2999\n",
            "1\n",
            "Epoch 2/5, Loss: 1.9465, Validation Loss: 1.6212\n",
            "2\n",
            "Epoch 3/5, Loss: 1.2633, Validation Loss: 1.0055\n",
            "3\n",
            "Epoch 4/5, Loss: 0.6954, Validation Loss: 0.6137\n",
            "4\n",
            "Epoch 5/5, Loss: 0.3934, Validation Loss: 0.4527\n",
            "Data Loaded\n",
            "start training\n",
            "0\n",
            "Epoch 1/5, Loss: 2.8208, Validation Loss: 2.2873\n",
            "1\n",
            "Epoch 2/5, Loss: 1.9183, Validation Loss: 1.6050\n",
            "2\n",
            "Epoch 3/5, Loss: 1.2177, Validation Loss: 0.9778\n",
            "3\n",
            "Epoch 4/5, Loss: 0.6552, Validation Loss: 0.5886\n",
            "4\n",
            "Epoch 5/5, Loss: 0.3705, Validation Loss: 0.4479\n",
            "Data Loaded\n",
            "start training\n",
            "0\n",
            "Epoch 1/5, Loss: 2.8210, Validation Loss: 2.2572\n",
            "1\n",
            "Epoch 2/5, Loss: 1.9048, Validation Loss: 1.5798\n",
            "2\n",
            "Epoch 3/5, Loss: 1.2187, Validation Loss: 0.9777\n",
            "3\n",
            "Epoch 4/5, Loss: 0.6746, Validation Loss: 0.5923\n",
            "4\n",
            "Epoch 5/5, Loss: 0.3806, Validation Loss: 0.4344\n",
            "Data Loaded\n",
            "start training\n",
            "0\n",
            "Epoch 1/5, Loss: 2.8385, Validation Loss: 2.2949\n",
            "1\n",
            "Epoch 2/5, Loss: 1.9193, Validation Loss: 1.6073\n",
            "2\n",
            "Epoch 3/5, Loss: 1.2470, Validation Loss: 1.0041\n",
            "3\n",
            "Epoch 4/5, Loss: 0.6984, Validation Loss: 0.6080\n",
            "4\n",
            "Epoch 5/5, Loss: 0.3948, Validation Loss: 0.4484\n",
            "[[0.46348982155323026, 0.4609080642461777, 0.4561923831701279], [0.4601799935102463, 0.4533771246671677, 0.4546107858419418], [0.44358662366867063, 0.4498935341835022, 0.4654082775115967]]\n"
          ]
        }
      ]
    },
    {
      "cell_type": "code",
      "source": [
        "import matplotlib.pyplot as plt\n",
        "import numpy as np\n",
        "fig, ax = plt.subplots()\n",
        "plt.imshow(results, interpolation='nearest')\n",
        "ax.set_yticks(np.arange(len(batch_sizes)), labels=batch_sizes)\n",
        "ax.set_xticks(np.arange(len(learning_rates)), labels=learning_rates)\n",
        "plt.xlabel(\"learning rate\")\n",
        "plt.ylabel(\"batch size\")\n",
        "for i in range(len(batch_sizes)):\n",
        "    for j in range(len(learning_rates)):\n",
        "        text = ax.text(j, i, round(results[i][j],3),ha=\"center\", va=\"center\", color=\"w\")\n",
        "plt.show()"
      ],
      "metadata": {
        "colab": {
          "base_uri": "https://localhost:8080/",
          "height": 449
        },
        "id": "8JG945yI5goS",
        "outputId": "27b0bc9c-9081-4eea-abcb-eb554f125596"
      },
      "execution_count": 26,
      "outputs": [
        {
          "output_type": "display_data",
          "data": {
            "text/plain": [
              "<Figure size 640x480 with 1 Axes>"
            ],
            "image/png": "[encoded data removed]"
          },
          "metadata": {}
        }
      ]
    }
  ]
}